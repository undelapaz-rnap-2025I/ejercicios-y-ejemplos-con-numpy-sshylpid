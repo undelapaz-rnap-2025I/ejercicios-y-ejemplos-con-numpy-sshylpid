{
 "cells": [
  {
   "cell_type": "markdown",
   "metadata": {
    "id": "z9dathS_lkMu"
   },
   "source": [
    "# **Aprendiendo y Practicando NumPy con ejemplos y ejercicios**\n"
   ]
  },
  {
   "cell_type": "markdown",
   "metadata": {},
   "source": [
    "Este cuaderno está diseñado para practicar y comprender los fundamentos básicos de NumPy, así como sus operaciones principales. Además, incluye la creación de funciones y clases en Python, proporcionando una base sólida para aplicar estos conocimientos mediante el desarrollo de un conjunto de ejercicios prácticos."
   ]
  },
  {
   "cell_type": "markdown",
   "metadata": {},
   "source": [
    "### **1. Ejemplos: NumPy**"
   ]
  },
  {
   "cell_type": "code",
   "execution_count": 1,
   "metadata": {
    "id": "JrciqVNelazN"
   },
   "outputs": [],
   "source": [
    "import numpy as np\n",
    "import matplotlib\n"
   ]
  },
  {
   "cell_type": "markdown",
   "metadata": {},
   "source": [
    " 1. Indexación Basica:\n",
    "\n",
    "En este ejemplo queremos imprimir el elemento correspondiente al índice 2 de nuestro array, el cual es 30. Esto es porque en los arrays, la indexación comienza desde 0, y por lo tanto, el primer elemento tiene índice 0, el segundo tiene índice 1, y el tercer elemento (30) tiene índice 2.\n",
    "\n",
    "| Indice | Elemento | \n",
    "|--------|----------|\n",
    "| 0| 10| \n",
    "| 1| 20| \n",
    "| 2| 30| \n",
    "| 3| 40| \n",
    "| 4| 50| \n",
    "\n",
    " "
   ]
  },
  {
   "cell_type": "code",
   "execution_count": 2,
   "metadata": {},
   "outputs": [
    {
     "name": "stdout",
     "output_type": "stream",
     "text": [
      "30\n"
     ]
    }
   ],
   "source": [
    "arr = np.array([10, 20, 30, 40, 50])\n",
    "print(arr[2])\n"
   ]
  },
  {
   "cell_type": "markdown",
   "metadata": {},
   "source": [
    "2. Rebanar o cortar\n",
    "\n",
    "En este ejemplo queremos \"cortar\" una parte de nuestro array, específicamente desde el elemento cuyo índice es 1 hasta el elemento anterior al índice 4, es decir, el elemento en el índice 3. Entonces, el corte incluirá los elementos con los índices 1, 2, y 3, lo que imprimirá: 20, 30, 40.\n"
   ]
  },
  {
   "cell_type": "code",
   "execution_count": 3,
   "metadata": {},
   "outputs": [
    {
     "name": "stdout",
     "output_type": "stream",
     "text": [
      "[20 30 40]\n"
     ]
    }
   ],
   "source": [
    "arr = np.array([10, 20, 30, 40, 50])\n",
    "print(arr[1:4])"
   ]
  },
  {
   "cell_type": "markdown",
   "metadata": {},
   "source": [
    "3. Indexando Arrays de 2 Dimensiones\n",
    "\n",
    "En los arrays 2D se pueden acceder a los elemento mediante dos indices, el 1ero hace referencia a las filas, y el 2do a las columnas, en este ejemplo queremos imprimir el elemento correspondiente a la fila 1 y columna 2, el cual es 6"
   ]
  },
  {
   "cell_type": "code",
   "execution_count": 4,
   "metadata": {},
   "outputs": [
    {
     "name": "stdout",
     "output_type": "stream",
     "text": [
      "6\n"
     ]
    }
   ],
   "source": [
    "arr = np.array([[1, 2, 3], [4, 5, 6], [7, 8, 9]])\n",
    "print(arr[1, 2])"
   ]
  },
  {
   "cell_type": "markdown",
   "metadata": {},
   "source": [
    "4. Rebanando Arrays de 2 Dimensiones\n",
    "\n",
    "En este ejemplo, se busca imprimir los elementos de las filas cuyos índices son 0 y 1, y de las columnas cuyos índices son 1 y 2.\n",
    "\n",
    "El primer índice [:2] selecciona las filas desde la fila 0 hasta la fila 1 (es decir, índices 0 y 1), lo que incluye las primeras dos filas.\n",
    "\n",
    "El segundo índice [1:] selecciona las columnas desde la columna 1 hasta la última (es decir, índices 1 en adelante), lo que incluye las columnas 2 y 3.\n",
    "\n",
    "Esto imprmira el subconjunto [[2, 3],[5, 6]]"
   ]
  },
  {
   "cell_type": "code",
   "execution_count": 5,
   "metadata": {},
   "outputs": [
    {
     "name": "stdout",
     "output_type": "stream",
     "text": [
      "[[2 3]\n",
      " [5 6]]\n"
     ]
    }
   ],
   "source": [
    "arr = np.array([[1, 2, 3], [4, 5, 6], [7, 8, 9]])\n",
    "print(arr[:2, 1:])"
   ]
  },
  {
   "cell_type": "markdown",
   "metadata": {},
   "source": [
    "5. Indexando un Tensor de 3 dimensiones\n",
    "\n",
    "En este ejemplo se crea un tensor tridimensional el cual tiene 3 bloques, cada uno con 2 filas y 3 columnas. La línea print(tensor[1, 0, 2]) accede al valor 9, que corresponde al tercer elemento de la primera fila en el segundo bloque. La línea print(tensor[1]) imprime el segundo bloque completo: [[7, 8, 9], [10, 11, 12]]."
   ]
  },
  {
   "cell_type": "code",
   "execution_count": 6,
   "metadata": {},
   "outputs": [
    {
     "name": "stdout",
     "output_type": "stream",
     "text": [
      "9\n",
      "[[ 7  8  9]\n",
      " [10 11 12]]\n"
     ]
    }
   ],
   "source": [
    "tensor = np.array([[[1,2,3], [4,5,6]], \n",
    "                  [[7,8,9], [10,11,12]],\n",
    "                  [[13,14,15], [16,17,18]]])\n",
    "\n",
    "print(tensor[1,0,2])\n",
    "print(tensor[1])"
   ]
  },
  {
   "cell_type": "markdown",
   "metadata": {},
   "source": [
    "6. Cortando un Tensor de 3 Dimensiones\n",
    "\n",
    "En este ejemplo se crea un tensor tridimensional de forma (3, 3, 3), osea 3 Matrices con 3 filas y 3 columnas, La primera línea imprime el segundo bloque (tensor[1]), que es una matriz [[9, 10, 11], [12, 13, 14], [15, 16, 17]]. La segunda línea (tensor[:, 1, :]) selecciona la segunda fila de cada bloque, devolviendo [[3, 4, 5], [12, 13, 14], [21, 22, 23]]. La última línea (tensor[:, :, 2]) extrae la tercera columna de cada fila en cada bloque, produciendo [[2, 5, 8], [11, 14, 17], [20, 23, 26]]."
   ]
  },
  {
   "cell_type": "code",
   "execution_count": 7,
   "metadata": {},
   "outputs": [
    {
     "name": "stdout",
     "output_type": "stream",
     "text": [
      "[[ 9 10 11]\n",
      " [12 13 14]\n",
      " [15 16 17]]\n",
      "\n",
      "\n",
      "[[ 3  4  5]\n",
      " [12 13 14]\n",
      " [21 22 23]]\n",
      "\n",
      "\n",
      "[[ 2  5  8]\n",
      " [11 14 17]\n",
      " [20 23 26]]\n"
     ]
    }
   ],
   "source": [
    "tensor =  np.arange(27).reshape(3,3,3)\n",
    "print(tensor[1])\n",
    "print(\"\\n\")\n",
    "print(tensor[:,1,:]) \n",
    "print(\"\\n\")\n",
    "print(tensor[:,:,2])   "
   ]
  },
  {
   "cell_type": "markdown",
   "metadata": {},
   "source": [
    "7. Indexando un Tensor de 4 Dimensiones\n",
    "\n",
    "En este ejemplo se crea un tensor de cuatro dimensiones con forma (2, 3, 2, 4) , tensor[1,2,1,3] accede al segundo bloque (tensor[1]), luego al tercer sub-bloque (tensor[1,2]), selecciona la segunda fila (tensor[1,2,1]) y obtiene el cuarto elemento, devolviendo 47. La instrucción tensor[1,2] imprime el tercer sub-bloque completo del segundo bloque: [[40, 41, 42, 43], [44, 45, 46, 47]]."
   ]
  },
  {
   "cell_type": "code",
   "execution_count": 8,
   "metadata": {},
   "outputs": [
    {
     "name": "stdout",
     "output_type": "stream",
     "text": [
      "47\n",
      "[[40 41 42 43]\n",
      " [44 45 46 47]]\n"
     ]
    }
   ],
   "source": [
    "tensor = np.arange(48).reshape(2,3,2,4)\n",
    "print(tensor[1,2,1,3])\n",
    "\n",
    "print(tensor[1,2])"
   ]
  },
  {
   "cell_type": "markdown",
   "metadata": {},
   "source": [
    "8. Cortando un Tensor de 4 Dimensiones\n",
    "\n",
    "En este ejemplo crea un tensor de cuatro dimensiones con forma (2, 3, 2, 4). La instrucción print(tensor) muestra el 2do bloque del tensor. La línea tensor[:,2,:,:] selecciona la tercera fila (índice 2) de cada bloque, devolviendo un tensor de forma (2, 2, 4) con valores correspondientes a las filas seleccionadas. Por último, tensor[:,:,0,:] extrae la primera fila interna (índice 0) de cada sub-bloque en ambos bloques, generando un tensor de forma (2, 3, 4) con las filas seleccionadas en cada sub-bloque.\n"
   ]
  },
  {
   "cell_type": "code",
   "execution_count": 9,
   "metadata": {},
   "outputs": [
    {
     "name": "stdout",
     "output_type": "stream",
     "text": [
      "[[[24 25 26 27]\n",
      "  [28 29 30 31]]\n",
      "\n",
      " [[32 33 34 35]\n",
      "  [36 37 38 39]]\n",
      "\n",
      " [[40 41 42 43]\n",
      "  [44 45 46 47]]]\n",
      "\n",
      "\n",
      "[[[16 17 18 19]\n",
      "  [20 21 22 23]]\n",
      "\n",
      " [[40 41 42 43]\n",
      "  [44 45 46 47]]]\n",
      "\n",
      "\n",
      "[[[ 0  1  2  3]\n",
      "  [ 8  9 10 11]\n",
      "  [16 17 18 19]]\n",
      "\n",
      " [[24 25 26 27]\n",
      "  [32 33 34 35]\n",
      "  [40 41 42 43]]]\n"
     ]
    }
   ],
   "source": [
    "tensor = np.arange(48).reshape(2,3,2,4)\n",
    "\n",
    "print(tensor[1])\n",
    "print(\"\\n\")\n",
    "print(tensor[:,2,:,:])\n",
    "print(\"\\n\")\n",
    "print(tensor[:,:,0,:])\n",
    "\n"
   ]
  },
  {
   "cell_type": "markdown",
   "metadata": {},
   "source": [
    "9. Suma de Matrices\n",
    "\n",
    "\n",
    "En este ejemplo se crean dos matrices A y B, y se realiza una suma entre ellas\n",
    "\n",
    "El resultado que se imprime es:\n",
    "\n",
    "```plaintext\n",
    "[[ 6  8]\n",
    " [10 12]]"
   ]
  },
  {
   "cell_type": "code",
   "execution_count": 10,
   "metadata": {},
   "outputs": [
    {
     "name": "stdout",
     "output_type": "stream",
     "text": [
      "[[ 6  8]\n",
      " [10 12]]\n"
     ]
    }
   ],
   "source": [
    "A = np.array([[1,2],[3,4]])\n",
    "B = np.array([[5,6],[7,8]])\n",
    "result = A + B \n",
    "print(result)\n"
   ]
  },
  {
   "cell_type": "markdown",
   "metadata": {},
   "source": [
    "10. Multiplicaion de matrices\n",
    "\n",
    "En este ejemplo se crean dos matrices A y B, y se realiza una multiplicacion entre ellas\n",
    "\n",
    "El resultado que se imprime es:\n",
    "\n",
    "```plaintext\n",
    "[[ 19  22]\n",
    " [43 50]]\n"
   ]
  },
  {
   "cell_type": "code",
   "execution_count": 11,
   "metadata": {},
   "outputs": [
    {
     "name": "stdout",
     "output_type": "stream",
     "text": [
      "[[19 22]\n",
      " [43 50]]\n"
     ]
    }
   ],
   "source": [
    "A = np.array([[1,2],[3,4]])\n",
    "B = np.array([[5,6],[7,8]])\n",
    "result = np.dot(A,B)\n",
    "print(result)"
   ]
  },
  {
   "cell_type": "markdown",
   "metadata": {},
   "source": [
    "11. Transpuesta de una matriz\n",
    "\n",
    "En este ejemplo se crea una matriz A y se calcula su transpuesta, lo que intercambia filas por columnas, por lo tanto el resultado sera:\n",
    "\n",
    "```plaintext\n",
    "[[1 3]\n",
    " [2 4]]"
   ]
  },
  {
   "cell_type": "code",
   "execution_count": 12,
   "metadata": {},
   "outputs": [
    {
     "name": "stdout",
     "output_type": "stream",
     "text": [
      "[[1 3]\n",
      " [2 4]]\n"
     ]
    }
   ],
   "source": [
    "A = np.array([[1,2],[3,4]])\n",
    "result = np.transpose(A)\n",
    "print(result)"
   ]
  },
  {
   "cell_type": "markdown",
   "metadata": {},
   "source": [
    "12. Determinante e Inversa de una matriz\n",
    "\n",
    "En este ejemplo se crea una matriz A y luego calcula su determinante utilizando np.linalg.det(A), obteniendo un valor de −2. Después, calcula la inversa de la matriz con np.linalg.inv(A), que resulta ser \n",
    "```plaintext\n",
    "[[-2.   1. ]\n",
    " [ 1.5 -0.5]]\n",
    " "
   ]
  },
  {
   "cell_type": "code",
   "execution_count": 13,
   "metadata": {},
   "outputs": [
    {
     "name": "stdout",
     "output_type": "stream",
     "text": [
      "Determinant: -2.0000000000000004\n",
      "Inverse:\n",
      " [[-2.   1. ]\n",
      " [ 1.5 -0.5]]\n"
     ]
    }
   ],
   "source": [
    "A = np.array([[1,2],[3,4]])\n",
    "det = np.linalg.det(A)\n",
    "inverse = np.linalg.inv(A)\n",
    "print(\"Determinant:\", det)\n",
    "print(\"Inverse:\\n\", inverse)"
   ]
  },
  {
   "cell_type": "markdown",
   "metadata": {},
   "source": [
    "13. Autovalores y Autovectores de una matriz\n",
    "\n",
    "En este ejemplo se crea una matriz A y se calcula sus autovalores y autovectores, los cuales resultan ser:\n",
    "\n",
    "```plaintext\n",
    "Autovalores: [-0.37228132  5.37228132]\n",
    "\n",
    "Autovectores:\n",
    " [[-0.82456484 -0.41597356]\n",
    " [ 0.56576746 -0.90937671]]"
   ]
  },
  {
   "cell_type": "code",
   "execution_count": 14,
   "metadata": {},
   "outputs": [
    {
     "name": "stdout",
     "output_type": "stream",
     "text": [
      "Eigenvalues: [-0.37228132  5.37228132]\n",
      "Eigenvectors:\n",
      " [[-0.82456484 -0.41597356]\n",
      " [ 0.56576746 -0.90937671]]\n"
     ]
    }
   ],
   "source": [
    "A = np.array([[1,2],[3,4]])\n",
    "eigenvalues, eigenvectors = np.linalg.eig(A)\n",
    "print(\"Eigenvalues:\", eigenvalues)\n",
    "print(\"Eigenvectors:\\n\", eigenvectors)"
   ]
  },
  {
   "cell_type": "markdown",
   "metadata": {},
   "source": [
    "14. Resolviendo una ecuacion lineal\n",
    "\n",
    "En este ejemplo se resuelve el sistema de ecuaciones lineales A * x = b,\n",
    "utilizando np.linalg.solve(A, b), para encontrar el vector x que satisface la ecuacion, cuyo resultado es\n",
    "\n",
    "```plaintext\n",
    "x=[1]\n",
    "  [1]"
   ]
  },
  {
   "cell_type": "code",
   "execution_count": 15,
   "metadata": {},
   "outputs": [
    {
     "name": "stdout",
     "output_type": "stream",
     "text": [
      "Solution: [1. 1.]\n"
     ]
    }
   ],
   "source": [
    "A = np.array([[2,1],[1,1]])\n",
    "b = np.array([3,2])\n",
    "solution = np.linalg.solve(A,b)\n",
    "print(\"Solution:\", solution)"
   ]
  },
  {
   "cell_type": "markdown",
   "metadata": {},
   "source": [
    "15. Optimizacion del gradiente descendente\n",
    "\n",
    "En este ejemplo se  implementa un algoritmo de **descenso de gradiente** para encontrar los parámetros theta en una regresión lineal. Primero, se genera un conjunto de datos X & y  con ruido, donde y = 4 + 3X + ruido. Luego, se agrega una columna de unos a X  para incluir el término de intersección en el modelo, formando X_b. Se inicializa el vector theta con valores aleatorios y se configura el tasa de aprendizaje (`learning_rate`) y el número de iteraciones (`n_iterations`) del descenso de gradiente.\n",
    "\n",
    "En el bucle de iteraciones, se calcula el gradiente como el promedio del gradiente de la función de costo (error cuadrático medio) y se actualizan los parámetros theta restando el producto del gradiente y la tasa de aprendizaje.\n",
    "\n",
    "Al final, el valor de theta es impreso, que debería aproximarse a los valores ideales para una regresión lineal con theta_0 = 4 y theta_1 = 3 .\n"
   ]
  },
  {
   "cell_type": "code",
   "execution_count": 16,
   "metadata": {},
   "outputs": [
    {
     "name": "stdout",
     "output_type": "stream",
     "text": [
      "Final theta: [[4.22215108]\n",
      " [2.96846751]]\n"
     ]
    }
   ],
   "source": [
    "import matplotlib.pyplot as plt\n",
    "np.random.seed(0)\n",
    "X = 2 * np.random.rand(100, 1)\n",
    "y = 4 + 3 * X + np.random.randn(100,1)\n",
    "\n",
    "X_b = np.c_[np.ones((100, 1)), X]\n",
    "\n",
    "learning_rate = 0.1\n",
    "n_iterations = 1000\n",
    "\n",
    "theta = np.random.randn(2, 1)\n",
    "\n",
    "for iteration in range(n_iterations):\n",
    "    gradients = 2 / 100 * X_b.T.dot(X_b.dot(theta)-y)\n",
    "    theta = theta - learning_rate * gradients\n",
    "\n",
    "print(\"Final theta:\", theta)"
   ]
  },
  {
   "cell_type": "markdown",
   "metadata": {},
   "source": [
    "# **2. Ejemplos: Funciones y Clases en Python**"
   ]
  },
  {
   "cell_type": "markdown",
   "metadata": {},
   "source": [
    "1. Funcion simple:\n",
    "\n",
    "En este ejemplo se crea una función llamada `greet` que toma un argumento `name` y devuelve un saludo personalizado en forma de cadena de texto. La función concatena la palabra \"Hello, \" con el nombre proporcionado y un signo de exclamación al final.\n",
    "\n",
    "Al llamar la funcion usando \"Ana\" como parametro esta nos imprimira:\n",
    "\n",
    "`Hello, Ana!`\n"
   ]
  },
  {
   "cell_type": "code",
   "execution_count": 17,
   "metadata": {},
   "outputs": [
    {
     "name": "stdout",
     "output_type": "stream",
     "text": [
      "Hello, Ana!\n"
     ]
    }
   ],
   "source": [
    "def greet(name):\n",
    "    return \"Hello, \" + name + \"!\"\n",
    "\n",
    "print(greet(\"Ana\"))"
   ]
  },
  {
   "cell_type": "markdown",
   "metadata": {},
   "source": [
    "2. Funcion con parametros y retorno\n",
    "\n",
    "En este ejemplo creamos una funcion llamada `add_numbers` que recibe dos numeros, a y b, y que nos retorna la suma de ambos\n",
    "\n",
    "Al usar la funcion con los parametros 5 y 7 y almacenarla en la variables result e imprimirla esta nos retornara `12`"
   ]
  },
  {
   "cell_type": "code",
   "execution_count": 18,
   "metadata": {},
   "outputs": [
    {
     "name": "stdout",
     "output_type": "stream",
     "text": [
      "12\n"
     ]
    }
   ],
   "source": [
    "def add_numbers(a,b):\n",
    "    sum = a+b\n",
    "    return sum\n",
    "\n",
    "result = add_numbers(5, 7)\n",
    "print(result) "
   ]
  },
  {
   "cell_type": "markdown",
   "metadata": {},
   "source": [
    "3. Funcion con Parametros por defecto \n",
    "\n",
    "En este ejemplo se crea un funcion llamada power que recibe dos parametros `base` y `exponent` y calcula la potencia, por defecto el exponente va a ser 2, a no ser que se indique alguno diferente al momento de llamar la funcion\n",
    "\n",
    "En el power(3) nos da como resultado 9, ya que se elevo al cuadrado la base, ya que es su valor por defecto\n",
    "\n",
    "En power(2, 3) nos da como resultado 8 ya que la base 2 se multiplica 3 veces"
   ]
  },
  {
   "cell_type": "code",
   "execution_count": 19,
   "metadata": {},
   "outputs": [
    {
     "name": "stdout",
     "output_type": "stream",
     "text": [
      "9\n",
      "8\n"
     ]
    }
   ],
   "source": [
    "def power(base, exponent=2):\n",
    "    return base ** exponent\n",
    "\n",
    "print(power(3))\n",
    "print(power(2, 3))\n"
   ]
  },
  {
   "cell_type": "markdown",
   "metadata": {},
   "source": [
    "4. Funcion con multiples retornos\n",
    "\n",
    "En este ejemplo se crea una funcion que recibe como parametro una lista de numeros, y de la cual retorna el valor minimo y el valor maximo\n",
    "\n",
    "En nuestro caso con la lista [4,9,2,7,5] retornara 2 y 9 "
   ]
  },
  {
   "cell_type": "code",
   "execution_count": 20,
   "metadata": {},
   "outputs": [
    {
     "name": "stdout",
     "output_type": "stream",
     "text": [
      "2 9\n"
     ]
    }
   ],
   "source": [
    "def min_max(numbers):\n",
    "    return min(numbers), max(numbers)\n",
    "\n",
    "nums = [4,9,2,7,5]\n",
    "minimum, maximum = min_max(nums)\n",
    "print(minimum, maximum)"
   ]
  },
  {
   "cell_type": "markdown",
   "metadata": {},
   "source": [
    "5. Funcion con Docstring\n",
    "\n",
    "En este ejemplo creamos una funcion para calcular el area de un rectangulo, recibe 2 parametros, `longitud` y `anchura` y calcula su area, la función también incluye una docstring que describe su propósito y los parámetros que acepta.\n",
    "\n",
    "Al llamar la funcion con los parametros 6 y 8 este nos retornara 48\n",
    "\n"
   ]
  },
  {
   "cell_type": "code",
   "execution_count": 21,
   "metadata": {},
   "outputs": [
    {
     "name": "stdout",
     "output_type": "stream",
     "text": [
      "48\n"
     ]
    }
   ],
   "source": [
    "def area_of_rectangle(length, width):\n",
    "    \"\"\"\n",
    "    Calculates the area of a rectangle.\n",
    "    Args:\n",
    "    length (float): The length of the rectangle.\n",
    "    width (float): The width of the rectangle.\n",
    "    Returns:\n",
    "    float: The area of the rectangle.\n",
    "    \"\"\"\n",
    "    return length * width\n",
    "\n",
    "print(area_of_rectangle(6,8))\n",
    "    \n"
   ]
  },
  {
   "cell_type": "markdown",
   "metadata": {},
   "source": [
    "6. Creando una clase simple\n",
    "\n",
    "Este ejemplo define una clase Dog con un método __init__ para inicializar los atributos name y age, que representan el nombre y la edad del perro. La clase también tiene un método bark, que imprime un mensaje indicando que el perro está ladrando. Luego, se crea una instancia de la clase Dog llamada dog1 con el nombre \"Buddy\" y la edad 3. Al llamar al método bark de dog1, se imprime el mensaje \"Buddy is barking\"."
   ]
  },
  {
   "cell_type": "code",
   "execution_count": 22,
   "metadata": {},
   "outputs": [
    {
     "name": "stdout",
     "output_type": "stream",
     "text": [
      "Buddy is barking\n"
     ]
    }
   ],
   "source": [
    "class Dog:\n",
    "    def __init__(self, name, age):\n",
    "        self.name = name\n",
    "        self.age = age\n",
    "\n",
    "    def bark(self):\n",
    "        print(f\"{self.name} is barking\")\n",
    "\n",
    "dog1 = Dog(\"Buddy\", 3)\n",
    "dog1.bark()"
   ]
  },
  {
   "cell_type": "markdown",
   "metadata": {},
   "source": [
    "7. Añadiendo metodos y atributos\n",
    "\n",
    "Este ejemplo crea una clase Student con atributos para el nombre, la edad y las calificaciones. Tiene métodos para añadir calificaciones (add_grades) y calcular el promedio de las calificaciones (get_average_grade). Se crea un objeto student1 con el nombre \"Alice\", se agregan dos calificaciones (85 y 92), y se imprime su promedio, que es 88.5."
   ]
  },
  {
   "cell_type": "code",
   "execution_count": 23,
   "metadata": {},
   "outputs": [
    {
     "name": "stdout",
     "output_type": "stream",
     "text": [
      "Alice's average grade: 88.5\n"
     ]
    }
   ],
   "source": [
    "class Student:\n",
    "    def __init__(self, name, age):\n",
    "        self.name = name\n",
    "        self.age = age\n",
    "        self.grades = []\n",
    "\n",
    "    def add_grades(self, grade):\n",
    "        self.grades.append(grade)\n",
    "        pass\n",
    "\n",
    "    def get_average_grade(self):\n",
    "        return sum(self.grades) / len(self.grades)\n",
    "    \n",
    "\n",
    "student1 = Student(\"Alice\", 18)\n",
    "student1.add_grades(85)\n",
    "student1.add_grades(92)\n",
    "average_grade = student1.get_average_grade()\n",
    "print(f\"{student1.name}'s average grade: {average_grade}\")"
   ]
  },
  {
   "cell_type": "markdown",
   "metadata": {},
   "source": [
    "8. Herencia\n",
    "\n",
    "En este ejemplo se crea clase base Animal con un método speak que no hace nada (es un método abstracto). Luego, se definen dos clases hijas, Cat y Dog, que heredan de Animal y sobrecargan el método speak para que cada una imprima un sonido específico: \"Meow!\" para los gatos y \"Woof!\" para los perros.\n",
    "\n",
    "Se crean dos instancias: un gato llamado \"Whiskers\" y un perro llamado \"Buddy\". Al llamar al método speak en ambas instancias, se imprime:"
   ]
  },
  {
   "cell_type": "code",
   "execution_count": 24,
   "metadata": {},
   "outputs": [
    {
     "name": "stdout",
     "output_type": "stream",
     "text": [
      "Whiskers says Meow!\n",
      "Buddy says Woof!\n"
     ]
    }
   ],
   "source": [
    "class Animal:\n",
    "    def __init__(self, name):\n",
    "        self.name = name\n",
    "\n",
    "    def speak(self):\n",
    "        pass\n",
    "\n",
    "class Cat(Animal):\n",
    "    def speak(self):\n",
    "        print(f\"{self.name} says Meow!\")\n",
    "\n",
    "class Dog(Animal):\n",
    "    def speak(self):\n",
    "        print(f\"{self.name} says Woof!\")\n",
    "\n",
    "cat = Cat(\"Whiskers\")\n",
    "dog = Dog(\"Buddy\")\n",
    "cat.speak()\n",
    "dog.speak()"
   ]
  },
  {
   "cell_type": "markdown",
   "metadata": {},
   "source": [
    "# **3. Ejercicios**"
   ]
  },
  {
   "cell_type": "markdown",
   "metadata": {},
   "source": [
    "**3.1 Indexando arrays en NumPy**"
   ]
  },
  {
   "cell_type": "markdown",
   "metadata": {},
   "source": [
    "1. Dado el array NumPy arr = np.array([3, 7, 1, 9, 5]), realice\n",
    "las siguientes operaciones de indexación:\n",
    "\n",
    "- a) Recupere el tercer elemento del array.\n",
    "- b) Divida el array para obtener los elementos del índice 1 al índice 3.\n",
    "- c) Cambie el valor del cuarto elemento a 12."
   ]
  },
  {
   "cell_type": "markdown",
   "metadata": {},
   "source": [
    "**Solucion**\n",
    "\n",
    "a) Se obtiene el tercer elemento del array (índice 2), que es 1, mediante arr[2].\n",
    "\n",
    "b) Se obtiene una sublista del array desde el índice 1 hasta el índice 3 (sin incluir el índice 4), lo que devuelve los elementos 7, 1 y 9, mediante arr[1:4].\n",
    "\n",
    "c) Se cambia el valor del cuarto elemento (índice 3) de 9 a 12, mediante arr[3] = 12, y luego se imprime el array modificado."
   ]
  },
  {
   "cell_type": "code",
   "execution_count": 25,
   "metadata": {},
   "outputs": [
    {
     "name": "stdout",
     "output_type": "stream",
     "text": [
      "a: 1\n",
      "b: [7 1 9]\n",
      "c: [ 3  7  1 12  5]\n"
     ]
    }
   ],
   "source": [
    "arr = np.array([3,7,1,9,5])\n",
    "print(\"a:\", arr[2])\n",
    "print(\"b:\", arr[1:4])\n",
    "arr[3] = 12\n",
    "print(\"c:\", arr)"
   ]
  },
  {
   "cell_type": "markdown",
   "metadata": {},
   "source": [
    "Cree una matriz NumPy 2D con los siguientes valores:\n",
    "\n",
    "\n",
    "| 1 | 2 | 3 |\n",
    "|---|---|---|\n",
    "| 4 | 5 | 6 |\n",
    "| 7 | 8 | 9 |\n",
    "\n",
    "\n",
    "- a) Recupere el elemento de la segunda fila y la tercera columna.\n",
    "- b) Corte la matriz para obtener la submatriz que consta de las primeras dos filas\n",
    "y todas las columnas."
   ]
  },
  {
   "cell_type": "markdown",
   "metadata": {},
   "source": [
    "**Solucion**\n",
    "\n",
    "a) Se obtiene el elemento de la segunda fila y la tercera columna (índice [1,2]), que es 6, mediante arr[1, 2].\n",
    "\n",
    "b) Se corta la matriz para obtener las primeras dos filas y todas las columnas, lo que da la submatriz: \n",
    "```plaintext\n",
    "[[1 2 3]\n",
    " [4 5 6]]\n",
    " "
   ]
  },
  {
   "cell_type": "code",
   "execution_count": 26,
   "metadata": {},
   "outputs": [
    {
     "name": "stdout",
     "output_type": "stream",
     "text": [
      "a: 6\n",
      "b: [[1 2 3]\n",
      " [4 5 6]]\n"
     ]
    }
   ],
   "source": [
    "arr = np.arange(1,10).reshape(3,3)\n",
    "print(\"a:\", arr[1,2])\n",
    "print(\"b:\", arr[:2,:])"
   ]
  },
  {
   "cell_type": "markdown",
   "metadata": {},
   "source": [
    "**3.2 Indexación y corte de tensores de dimensiones superiores**"
   ]
  },
  {
   "cell_type": "markdown",
   "metadata": {},
   "source": [
    "Considere el siguiente tensor 3D que representa una pila de matrices desde el 1 hasta el 36 con una forma(3,3,4)\n",
    "\n",
    "1. Recupere el elemento en la posición (1, 0, 2) dentro del tensor.\n",
    "2. Corte el tensor para obtener el subtensor 3 × 4 que corresponde a la\n",
    "segunda “matriz” (corte) a lo largo de la primera dimensión.\n",
    "3. Corte el tensor para obtener el subtensor 2 × 4 que corresponde a la última\n",
    "fila de las últimas dos “matrices”.\n",
    "4. Recupere el elemento en la posición (2, 1, 3) dentro del tensor.\n",
    "5. Corte el tensor para obtener el subtensor 2 × 4 que corresponde a la primera\n",
    "fila de las últimas dos “matrices”."
   ]
  },
  {
   "cell_type": "markdown",
   "metadata": {},
   "source": [
    "**Solucion**\n",
    "\n",
    "\n",
    " 1. Para recuperar elementos y subtensores específicos, usamos indexación: en (1, 0, 2) se obtiene 15 al acceder a la segunda matriz, primera fila, tercer elemento.\n",
    " 2. Al cortar con tensor[1, :, :], se obtiene la segunda matriz completa.\n",
    " 3. Con tensor[1:, 2, :], se extraen las últimas filas de las dos últimas matrices, resultando en un subtensor 2x4.\n",
    " 4. El elemento en (2, 1, 3) es 32, tomado de la tercera matriz, segunda fila, cuarto elemento. \n",
    " 5. tensor[1:, 0, :] devuelve la primera fila de las últimas dos matrices, formando otro subtensor 2x4."
   ]
  },
  {
   "cell_type": "code",
   "execution_count": 27,
   "metadata": {},
   "outputs": [
    {
     "name": "stdout",
     "output_type": "stream",
     "text": [
      "1: 15\n",
      "\n",
      "\n",
      "2: [[13 14 15 16]\n",
      " [17 18 19 20]\n",
      " [21 22 23 24]]\n",
      "\n",
      "\n",
      "3: [[21 22 23 24]\n",
      " [33 34 35 36]]\n",
      "\n",
      "\n",
      "4: 32\n",
      "\n",
      "\n",
      "5: [[13 14 15 16]\n",
      " [25 26 27 28]]\n"
     ]
    }
   ],
   "source": [
    "tensor = np.arange(1, 37).reshape(3,3,4)\n",
    "print(\"1:\", tensor[1,0,2])\n",
    "print(\"\\n\")\n",
    "print(\"2:\", tensor[1,:,:])\n",
    "print(\"\\n\")\n",
    "print(\"3:\", tensor[1:,2,:])\n",
    "print(\"\\n\")\n",
    "print(\"4:\", tensor[2,1,3])\n",
    "print(\"\\n\")\n",
    "print(\"5:\", tensor[1:,0,:])"
   ]
  },
  {
   "cell_type": "markdown",
   "metadata": {},
   "source": [
    "**3.3 Definiendo Funciones en Python**"
   ]
  },
  {
   "cell_type": "markdown",
   "metadata": {},
   "source": [
    "En este ejercicio creamos una funcion llamada calculate_average que recibe como parametro una lista de numeros, despues recorre todos los numeros de la lista y los va sumando a la variables average, para finalmente retornar la division entre la variable average y el tamaño de la lista, que da como resultado el promedio de la lista"
   ]
  },
  {
   "cell_type": "code",
   "execution_count": 28,
   "metadata": {},
   "outputs": [
    {
     "data": {
      "text/plain": [
       "5.25"
      ]
     },
     "execution_count": 28,
     "metadata": {},
     "output_type": "execute_result"
    }
   ],
   "source": [
    "def calculate_average(numbers):\n",
    "    average = 0\n",
    "    for n in numbers: average += n\n",
    "    return average / len(numbers)\n",
    "\n",
    "calculate_average([4,6,7,8,3,4,9,1])\n"
   ]
  },
  {
   "cell_type": "markdown",
   "metadata": {},
   "source": [
    "En este ejercicio se crea un funcion llamada find_power que recibe dos parametros `base` y `exponent` y calcula la potencia, por defecto el exponente va a ser 2, a no ser que se indique alguno diferente al momento de llamar la funcion\n",
    "\n",
    "En el find_power(8) nos da como resultado 64, ya que se elevo al cuadrado la base, ya que es su valor por defecto\n",
    "\n",
    "En power(4, 4) nos da como resultado 256 "
   ]
  },
  {
   "cell_type": "code",
   "execution_count": 29,
   "metadata": {},
   "outputs": [
    {
     "name": "stdout",
     "output_type": "stream",
     "text": [
      "64\n",
      "256\n"
     ]
    }
   ],
   "source": [
    "def find_power(base, exponent=2):\n",
    "    return base ** exponent\n",
    "print(find_power(8))\n",
    "print(find_power(4,4))\n"
   ]
  },
  {
   "cell_type": "markdown",
   "metadata": {},
   "source": [
    "**3.4 Implemetando la obtimizacion del gradiente descendiente**\n",
    "\n",
    "1. Considere el problema de regresión lineal donde tiene los siguientes puntos de\n",
    "datos: X = [1, 2, 3, 4, 5], y = [3, 6, 8, 11, 13].\n",
    "Implemente un programa Python usando NumPy para realizar la optimización por\n",
    "descenso de gradiente para encontrar los parámetros θ0 y θ1 para el modelo de regresión lineal\n",
    "hθ(x) = θ0 + θ1x. Use una tasa de aprendizaje de 0,01 e itere 1000\n",
    "pasos.\n",
    "\n",
    "2. Dibuje en un gráfico el progreso de los parámetros θ0 y θ1 a través de los pasos.\n",
    "\n",
    "3. Explique con sus propias palabras el propósito de la tasa de aprendizaje en la optimización por descenso de gradiente."
   ]
  },
  {
   "cell_type": "markdown",
   "metadata": {},
   "source": [
    "**Explicacion**\n",
    "\n",
    "1. El problema consiste en ajustar una línea recta theta(x) = theta_0 + theta_1x a los datos X = [1, 2, 3, 4, 5] y y = [3, 6, 8, 11, 13] usando descenso de gradiente. El algoritmo inicia con valores aleatorios para theta_0 y theta_1, y los ajusta iterativamente durante 1000 pasos utilizando una tasa de aprendizaje de 0.01, En cada iteración, calcula los gradientes del error cuadrático medio y actualiza los parámetros para reducir el error.\n",
    "\n",
    "2. Para ver el progreso de los parámetros theta_0 y theta_1 a lo largo de las iteraciones, se trazan sus valores en función del número de pasos del descenso de gradiente. En cada iteración, los parámetros se ajustan poco a poco para minimizar el error cuadrático medio, a medida que avanzan los pasos, ambos parámetros convergen hacia valores estables, mostrando cómo el modelo aprende a ajustar la línea a los datos, el gráfico ilustra el proceso de optimización y la convergencia hacia los valores óptimos de theta_0 y theta_1.\n",
    "\n",
    "3. El learning rate es el tamaño del paso que da el algoritmos en cada iteracion para ajustar los parametros, entre mas grande el valor mas rapido puede converger, pero con riesgo de no encontrar el minimo y oscile alrededor del el"
   ]
  },
  {
   "cell_type": "code",
   "execution_count": 31,
   "metadata": {},
   "outputs": [
    {
     "name": "stdout",
     "output_type": "stream",
     "text": [
      "Final theta: [[0.71656818]\n",
      " [2.49541088]]\n"
     ]
    },
    {
     "data": {
      "image/png": "[encoded data removed]",
      "text/plain": [
       "<Figure size 640x480 with 2 Axes>"
      ]
     },
     "metadata": {},
     "output_type": "display_data"
    }
   ],
   "source": [
    "np.random.seed(42)\n",
    "\n",
    "X = np.array([1,2,3,4,5])\n",
    "y = np.array([3,6,8,11,13])\n",
    "\n",
    "learning_rate = 0.01\n",
    "steps = 1000\n",
    "\n",
    "X_b = np.c_[np.ones((X.shape[0], 1)), X]\n",
    "\n",
    "theta = np.random.randn(2, 1)\n",
    "\n",
    "theta_0_progress = []\n",
    "theta_1_progress = []\n",
    "\n",
    "for step in range(steps):\n",
    "    gradient = 2 / X_b.shape[0] * X_b.T.dot(X_b.dot(theta)-y.reshape(-1,1))\n",
    "    theta = theta - learning_rate * gradient\n",
    "\n",
    "    theta_0_progress.append(theta[0, 0])\n",
    "    theta_1_progress.append(theta[1, 0])\n",
    "\n",
    "print(\"Final theta:\", theta)\n",
    "\n",
    "plt.subplot(2, 1, 1)\n",
    "plt.plot(range(n_iterations), theta_0_progress, color='blue', label=r'$theta_0$')\n",
    "plt.title('Progreso de theta_0 durante el gradiente descendente')\n",
    "plt.xlabel('Iteraciones')\n",
    "plt.ylabel('$theta_0$')\n",
    "plt.grid(True)\n",
    "plt.legend()\n",
    "\n",
    "plt.subplot(2, 1, 2)\n",
    "plt.plot(range(n_iterations), theta_1_progress, color='green', label=r'$theta_1$')\n",
    "plt.title('Progreso de theta_1 durante el gradiente descendente')\n",
    "plt.xlabel('Iteraciones')\n",
    "plt.ylabel('$theta_1$')\n",
    "plt.grid(True)\n",
    "plt.legend()\n",
    "\n",
    "plt.tight_layout()\n",
    "plt.show()"
   ]
  }
 ],
 "metadata": {
  "colab": {
   "provenance": []
  },
  "kernelspec": {
   "display_name": "Python 3",
   "name": "python3"
  },
  "language_info": {
   "codemirror_mode": {
    "name": "ipython",
    "version": 3
   },
   "file_extension": ".py",
   "mimetype": "text/x-python",
   "name": "python",
   "nbconvert_exporter": "python",
   "pygments_lexer": "ipython3",
   "version": "3.9.13"
  }
 },
 "nbformat": 4,
 "nbformat_minor": 0
}
